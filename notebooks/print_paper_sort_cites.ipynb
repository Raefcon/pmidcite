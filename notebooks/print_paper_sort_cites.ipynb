{
 "cells": [
  {
   "cell_type": "markdown",
   "metadata": {},
   "source": [
    "# Download citation data from NIH-OCC\n",
    "NIH-OCC: Nation Institute of Health's Open Citation Collection https://icite.od.nih.gov/\n",
    "\n",
    "## 1) Load Python interface to NIH-OCC's API\n",
    "One NIH entry per PubMed ID (PMID) will be downloaded to the directory, `./icite`.\n",
    "\n",
    "It is not advisable to add these files to a repo or revision manage them because the number of files will multitudinous.\n",
    "So ensure `./icite` is listed in the `.gitignore` file.\n",
    "\n",
    "NOTE: The Python API always downloads data from the NIH-OCC, even if it has been requested before. The Python downloader, `NIHiCiteDownloader`, will load NIH-OCC data from a file if it exists, otherwise will download the data using the API."
   ]
  },
  {
   "cell_type": "code",
   "execution_count": 1,
   "metadata": {},
   "outputs": [],
   "source": [
    "import sys\n",
    "from pmidcite.icite.api import NIHiCiteAPI\n",
    "\n",
    "api = NIHiCiteAPI('./icite', prt=None)"
   ]
  },
  {
   "cell_type": "markdown",
   "metadata": {},
   "source": [
    "## 2) Load the NIH Downloader\n",
    "The NIH downloader will use the API to download data from NIH if it is not stored locally or if the user has requested to always download and over-write the older citation file, allowing new citations to be seen.\n",
    "\n",
    "The NIH downloader will read already downloaded NIH-OCC data if it is available. This makes it possible to work offline using previously downloaded citation data."
   ]
  },
  {
   "cell_type": "code",
   "execution_count": 2,
   "metadata": {},
   "outputs": [],
   "source": [
    "from pmidcite.icite.pmid_dnlder import NIHiCiteDownloader\n",
    "\n",
    "force_download = False\n",
    "dnldr = NIHiCiteDownloader(force_download, api)"
   ]
  },
  {
   "cell_type": "markdown",
   "metadata": {},
   "source": [
    "## 3) Download NIH-OCC data for one PMID\n",
    "\n",
    "The first paper, `TOP`, is the requested paper. It is followed by a list of citations (`CIT`), then references (`REF`).\n",
    "\n",
    "Citations are stored in two data members, `cited_by` and `cited_by_clin`. In this example, there are no clinical papers which cited the chosen paper. But we show how union can be used to merge the two sets."
   ]
  },
  {
   "cell_type": "code",
   "execution_count": 3,
   "metadata": {},
   "outputs": [],
   "source": [
    "pmid = 22882545\n",
    "pmids = [pmid]\n",
    "pmid2paper = dnldr.get_pmid2paper(pmids)\n",
    "\n",
    "paper = pmid2paper[pmid]\n",
    "\n",
    "# set of NIHiCiteEntry\n",
    "all_cites = paper.cited_by.union(paper.cited_by_clin)"
   ]
  },
  {
   "cell_type": "markdown",
   "metadata": {},
   "source": [
    "## 4) Default sort of NIHiCiteEntry objects is by PMIDs"
   ]
  },
  {
   "cell_type": "code",
   "execution_count": 4,
   "metadata": {},
   "outputs": [
    {
     "name": "stdout",
     "output_type": "stream",
     "text": [
      "24383934 R. .AM..  61 2 2014    21  0  51 au[17](Marie Louis) Habitat-driven population structure of bottlenose dolphins, Tursiops truncatus, in the North-East Atlantic.\n",
      "25052415 R. .AM..  66 2 2015    21  0  37 au[09](A E Moura) Phylogenomics of the killer whale indicates ecotype divergence in sympatry.\n",
      "25244680 R. .A...  60 2 2014    22  0  58 au[10](Andre E Moura) Population genomics of the killer whale indicates ecotype evolution in sympatry involving both selection and drift.\n",
      "25297864 R. .A...  59 2 2014    16  0  39 au[10](Marie Louis) Ecological opportunities and specializations shaped genetic divergence in a highly mobile marine top predator.\n",
      "25738698 R. .A...  30 2 2015     5  0   5 au[06](Marta Söffker) The impact of predation by marine mammals on patagonian toothfish longline fisheries.\n",
      "25883362 .. .A...  84 2 2015    36  0  85 au[02](Neil P Kelley) Vertebrate evolution. Evolutionary innovation and ecology in marine tetrapods from the Triassic to the Anthropocene.\n",
      "26937049 R. .A...  76 2 2015    17  0  34 au[04](Todd R Robeck) Comparisons of life-history parameters between free-ranging and captive killer whale (<i>Orcinus orca</i>) populations for application toward species management.\n",
      "27039511 R. .A...  68 2 2016     9  0  25 au[07](Saana Isojunno) Sperm whales reduce foraging effort during exposure to 1-2 kHz sonar and killer whale sounds.\n",
      "27147024 .. .A...   0 0 2016     0  0   2 au[01](P J Nico de Bruyn) Conservation: Debate over whale longevity is futile.\n",
      "27336480 R. .AM..  25 2 2016     4  0  75 au[05](Stefano Montelli) Back to Water: Signature of Adaptive Evolution in Cetacean Mitochondrial tRNAs.\n",
      "27804965 .. .A...  14 1 2016     3  0  15 au[02](A R Hoelzel) Killer whales differentiating in geographic sympatry facilitated by divergent behavioural traditions.\n",
      "27923044 R. .A...  55 2 2016     7  0   6 au[06](Rebecca Wellard) Killer Whale (Orcinus orca) Predation on Beaked Whales (Mesoplodon spp.) in the Bremer Sub-Basin, Western Australia.\n",
      "28371192 R. .A...  61 2 2017    10  0 121 au[03](Katherine L Moon) Reconsidering connectivity in the sub-Antarctic.\n",
      "28666015 R. .A...  52 2 2017     4  0   8 au[04](Eve Jourdain) First longitudinal study of seal-feeding killer whales (Orcinus orca) in Norwegian coastal waters.\n",
      "29272275 R. .A...   8 1 2017     1  0   8 au[04](Elizabeth Seely) Soundwatch: Eighteen years of monitoring whale watch vessel activities in the Salish Sea.\n",
      "29692289 RP .A...  14 1 2018     1  0  14 au[06](A Reckendorf) First record of Halocercus sp. (Pseudaliidae) lungworm infections in two stranded neonatal orcas (Orcinus orca).\n",
      "29876075 RP .A...  29 2 2018     2  0  29 au[02](Mauricio Cantor) Simple foraging rules in competitive environments can generate socially structured populations.\n",
      "29895580 RP .A...  45 2 2018     2  0  22 au[07](Matthew T Bowers) Selective reactions to different killer whale call categories in two delphinid species.\n",
      "30051821 RP .A...  30 2 2018     3  0  12 au[08](Ana S L Rodrigues) Forgotten Mediterranean calving grounds of grey and North Atlantic right whales: evidence from Roman archaeological records.\n",
      "30992478 R. HA... 999 i 2019     2  0  32 au[09](Salvador J Jorgensen) Killer whales redistribute white shark foraging pressure on seals.\n",
      "31120038 R. .A... 999 i 2019     0  0  14 au[08](Maíra Laeta) Osteochondromatosis (multiple cartilaginous exostoses) in an immature killer whale Orcinus orca.\n",
      "31131963 RP .AM.. 999 i 2019     5  0  72 au[35](Andrew D Foote) Killer whale genomes reveal a complex history of recurrent admixture and vicariance.\n",
      "31215081 R. .A... 999 i 2019     0  0  16 au[04](Paula Sánchez-Hernández) Social interaction analysis in captive orcas (Orcinus orca).\n",
      "31230140 R. .A... 999 i 2019     0  0  36 au[12](Charlotte Curé) Evidence for discrimination between feeding sounds of familiar fish and unfamiliar mammal-eating killer whale ecotypes by long-finned pilot whales.\n",
      "31631360 .. HA... 999 i 2019     1  0  55 au[01](Jenny A Allen) Community through Culture: From Insects to Whales: How Social Learning and Culture Manifest across Diverse Animal Communities.\n"
     ]
    }
   ],
   "source": [
    "for nih_entry in sorted(all_cites):\n",
    "    print(nih_entry)"
   ]
  },
  {
   "cell_type": "markdown",
   "metadata": {},
   "source": [
    "## 5) Sort by NIH percentile\n",
    "NIH entries that are too new to have been given a NIH percentile are set to 999 in *pmidcite*.    \n",
    "\n",
    "It is important to highlight new papers.    \n",
    "\n",
    "The 999 value makes the newest papers appear next to the papers having the highest NIH percentiles so the new papers are highlighted."
   ]
  },
  {
   "cell_type": "code",
   "execution_count": 5,
   "metadata": {},
   "outputs": [
    {
     "name": "stdout",
     "output_type": "stream",
     "text": [
      "31631360 .. HA... 999 i 2019     1  0  55 au[01](Jenny A Allen) Community through Culture: From Insects to Whales: How Social Learning and Culture Manifest across Diverse Animal Communities.\n",
      "31120038 R. .A... 999 i 2019     0  0  14 au[08](Maíra Laeta) Osteochondromatosis (multiple cartilaginous exostoses) in an immature killer whale Orcinus orca.\n",
      "30992478 R. HA... 999 i 2019     2  0  32 au[09](Salvador J Jorgensen) Killer whales redistribute white shark foraging pressure on seals.\n",
      "31131963 RP .AM.. 999 i 2019     5  0  72 au[35](Andrew D Foote) Killer whale genomes reveal a complex history of recurrent admixture and vicariance.\n",
      "31230140 R. .A... 999 i 2019     0  0  36 au[12](Charlotte Curé) Evidence for discrimination between feeding sounds of familiar fish and unfamiliar mammal-eating killer whale ecotypes by long-finned pilot whales.\n",
      "31215081 R. .A... 999 i 2019     0  0  16 au[04](Paula Sánchez-Hernández) Social interaction analysis in captive orcas (Orcinus orca).\n",
      "25883362 .. .A...  84 2 2015    36  0  85 au[02](Neil P Kelley) Vertebrate evolution. Evolutionary innovation and ecology in marine tetrapods from the Triassic to the Anthropocene.\n",
      "26937049 R. .A...  76 2 2015    17  0  34 au[04](Todd R Robeck) Comparisons of life-history parameters between free-ranging and captive killer whale (<i>Orcinus orca</i>) populations for application toward species management.\n",
      "27039511 R. .A...  68 2 2016     9  0  25 au[07](Saana Isojunno) Sperm whales reduce foraging effort during exposure to 1-2 kHz sonar and killer whale sounds.\n",
      "25052415 R. .AM..  66 2 2015    21  0  37 au[09](A E Moura) Phylogenomics of the killer whale indicates ecotype divergence in sympatry.\n",
      "28371192 R. .A...  61 2 2017    10  0 121 au[03](Katherine L Moon) Reconsidering connectivity in the sub-Antarctic.\n",
      "24383934 R. .AM..  61 2 2014    21  0  51 au[17](Marie Louis) Habitat-driven population structure of bottlenose dolphins, Tursiops truncatus, in the North-East Atlantic.\n",
      "25244680 R. .A...  60 2 2014    22  0  58 au[10](Andre E Moura) Population genomics of the killer whale indicates ecotype evolution in sympatry involving both selection and drift.\n",
      "25297864 R. .A...  59 2 2014    16  0  39 au[10](Marie Louis) Ecological opportunities and specializations shaped genetic divergence in a highly mobile marine top predator.\n",
      "27923044 R. .A...  55 2 2016     7  0   6 au[06](Rebecca Wellard) Killer Whale (Orcinus orca) Predation on Beaked Whales (Mesoplodon spp.) in the Bremer Sub-Basin, Western Australia.\n",
      "28666015 R. .A...  52 2 2017     4  0   8 au[04](Eve Jourdain) First longitudinal study of seal-feeding killer whales (Orcinus orca) in Norwegian coastal waters.\n",
      "29895580 RP .A...  45 2 2018     2  0  22 au[07](Matthew T Bowers) Selective reactions to different killer whale call categories in two delphinid species.\n",
      "30051821 RP .A...  30 2 2018     3  0  12 au[08](Ana S L Rodrigues) Forgotten Mediterranean calving grounds of grey and North Atlantic right whales: evidence from Roman archaeological records.\n",
      "25738698 R. .A...  30 2 2015     5  0   5 au[06](Marta Söffker) The impact of predation by marine mammals on patagonian toothfish longline fisheries.\n",
      "29876075 RP .A...  29 2 2018     2  0  29 au[02](Mauricio Cantor) Simple foraging rules in competitive environments can generate socially structured populations.\n",
      "27336480 R. .AM..  25 2 2016     4  0  75 au[05](Stefano Montelli) Back to Water: Signature of Adaptive Evolution in Cetacean Mitochondrial tRNAs.\n",
      "27804965 .. .A...  14 1 2016     3  0  15 au[02](A R Hoelzel) Killer whales differentiating in geographic sympatry facilitated by divergent behavioural traditions.\n",
      "29692289 RP .A...  14 1 2018     1  0  14 au[06](A Reckendorf) First record of Halocercus sp. (Pseudaliidae) lungworm infections in two stranded neonatal orcas (Orcinus orca).\n",
      "29272275 R. .A...   8 1 2017     1  0   8 au[04](Elizabeth Seely) Soundwatch: Eighteen years of monitoring whale watch vessel activities in the Salish Sea.\n",
      "27147024 .. .A...   0 0 2016     0  0   2 au[01](P J Nico de Bruyn) Conservation: Debate over whale longevity is futile.\n"
     ]
    }
   ],
   "source": [
    "for nih_entry in sorted(all_cites, key=lambda o: o.dct['nih_perc'], reverse=True):\n",
    "    print(nih_entry)"
   ]
  },
  {
   "cell_type": "markdown",
   "metadata": {},
   "source": [
    "## 6) Sort by year first, then citation count"
   ]
  },
  {
   "cell_type": "code",
   "execution_count": 6,
   "metadata": {},
   "outputs": [
    {
     "name": "stdout",
     "output_type": "stream",
     "text": [
      "31131963 RP .AM.. 999 i 2019     5  0  72 au[35](Andrew D Foote) Killer whale genomes reveal a complex history of recurrent admixture and vicariance.\n",
      "30992478 R. HA... 999 i 2019     2  0  32 au[09](Salvador J Jorgensen) Killer whales redistribute white shark foraging pressure on seals.\n",
      "31631360 .. HA... 999 i 2019     1  0  55 au[01](Jenny A Allen) Community through Culture: From Insects to Whales: How Social Learning and Culture Manifest across Diverse Animal Communities.\n",
      "31120038 R. .A... 999 i 2019     0  0  14 au[08](Maíra Laeta) Osteochondromatosis (multiple cartilaginous exostoses) in an immature killer whale Orcinus orca.\n",
      "31230140 R. .A... 999 i 2019     0  0  36 au[12](Charlotte Curé) Evidence for discrimination between feeding sounds of familiar fish and unfamiliar mammal-eating killer whale ecotypes by long-finned pilot whales.\n",
      "31215081 R. .A... 999 i 2019     0  0  16 au[04](Paula Sánchez-Hernández) Social interaction analysis in captive orcas (Orcinus orca).\n",
      "30051821 RP .A...  30 2 2018     3  0  12 au[08](Ana S L Rodrigues) Forgotten Mediterranean calving grounds of grey and North Atlantic right whales: evidence from Roman archaeological records.\n",
      "29895580 RP .A...  45 2 2018     2  0  22 au[07](Matthew T Bowers) Selective reactions to different killer whale call categories in two delphinid species.\n",
      "29876075 RP .A...  29 2 2018     2  0  29 au[02](Mauricio Cantor) Simple foraging rules in competitive environments can generate socially structured populations.\n",
      "29692289 RP .A...  14 1 2018     1  0  14 au[06](A Reckendorf) First record of Halocercus sp. (Pseudaliidae) lungworm infections in two stranded neonatal orcas (Orcinus orca).\n",
      "28371192 R. .A...  61 2 2017    10  0 121 au[03](Katherine L Moon) Reconsidering connectivity in the sub-Antarctic.\n",
      "28666015 R. .A...  52 2 2017     4  0   8 au[04](Eve Jourdain) First longitudinal study of seal-feeding killer whales (Orcinus orca) in Norwegian coastal waters.\n",
      "29272275 R. .A...   8 1 2017     1  0   8 au[04](Elizabeth Seely) Soundwatch: Eighteen years of monitoring whale watch vessel activities in the Salish Sea.\n",
      "27039511 R. .A...  68 2 2016     9  0  25 au[07](Saana Isojunno) Sperm whales reduce foraging effort during exposure to 1-2 kHz sonar and killer whale sounds.\n",
      "27923044 R. .A...  55 2 2016     7  0   6 au[06](Rebecca Wellard) Killer Whale (Orcinus orca) Predation on Beaked Whales (Mesoplodon spp.) in the Bremer Sub-Basin, Western Australia.\n",
      "27336480 R. .AM..  25 2 2016     4  0  75 au[05](Stefano Montelli) Back to Water: Signature of Adaptive Evolution in Cetacean Mitochondrial tRNAs.\n",
      "27804965 .. .A...  14 1 2016     3  0  15 au[02](A R Hoelzel) Killer whales differentiating in geographic sympatry facilitated by divergent behavioural traditions.\n",
      "27147024 .. .A...   0 0 2016     0  0   2 au[01](P J Nico de Bruyn) Conservation: Debate over whale longevity is futile.\n",
      "25883362 .. .A...  84 2 2015    36  0  85 au[02](Neil P Kelley) Vertebrate evolution. Evolutionary innovation and ecology in marine tetrapods from the Triassic to the Anthropocene.\n",
      "25052415 R. .AM..  66 2 2015    21  0  37 au[09](A E Moura) Phylogenomics of the killer whale indicates ecotype divergence in sympatry.\n",
      "26937049 R. .A...  76 2 2015    17  0  34 au[04](Todd R Robeck) Comparisons of life-history parameters between free-ranging and captive killer whale (<i>Orcinus orca</i>) populations for application toward species management.\n",
      "25738698 R. .A...  30 2 2015     5  0   5 au[06](Marta Söffker) The impact of predation by marine mammals on patagonian toothfish longline fisheries.\n",
      "25244680 R. .A...  60 2 2014    22  0  58 au[10](Andre E Moura) Population genomics of the killer whale indicates ecotype evolution in sympatry involving both selection and drift.\n",
      "24383934 R. .AM..  61 2 2014    21  0  51 au[17](Marie Louis) Habitat-driven population structure of bottlenose dolphins, Tursiops truncatus, in the North-East Atlantic.\n",
      "25297864 R. .A...  59 2 2014    16  0  39 au[10](Marie Louis) Ecological opportunities and specializations shaped genetic divergence in a highly mobile marine top predator.\n"
     ]
    }
   ],
   "source": [
    "nih_cites = sorted(all_cites, key=lambda o: [o.dct['year'], o.dct['total_cites']], reverse=True)\n",
    "for nih_entry in nih_cites:\n",
    "    print(nih_entry)"
   ]
  },
  {
   "cell_type": "markdown",
   "metadata": {},
   "source": [
    "## 7) Print the keys which can be used for sorting\n",
    "Pick out one NIH entry (NIHiCiteEntry object) and print available keys"
   ]
  },
  {
   "cell_type": "code",
   "execution_count": 7,
   "metadata": {},
   "outputs": [
    {
     "name": "stdout",
     "output_type": "stream",
     "text": [
      "\n",
      "30 key-value pairs in an NIH entry:\n",
      "\n",
      "                       pmid 31131963\n",
      "                       year 2019\n",
      "                      title Killer whale genomes reveal a complex history of recurrent admixture and vicariance.\n",
      "                    authors ['Andrew D Foote', 'Michael D Martin', 'Marie Louis', 'George Pacheco', 'Kelly M Robertson', 'Mikkel-Holger S Sinding', 'Ana R Amaral', 'Robin W Baird', 'Charles Scott Baker', 'Lisa Ballance', 'Jay Barlow', 'Andrew Brownlow', 'Tim Collins', 'Rochelle Constantine', 'Willy Dabin', 'Luciano Dalla Rosa', 'Nicholas J Davison', 'John W Durban', 'Ruth Esteban', 'Steven H Ferguson', 'Tim Gerrodette', 'Christophe Guinet', 'M Bradley Hanson', 'Wayne Hoggard', 'Cory J D Matthews', 'Filipa I P Samarra', 'Renaud de Stephanis', 'Sara B Tavares', 'Paul Tixier', 'John A Totterdell', 'Paul Wade', 'Laurent Excoffier', 'M Thomas P Gilbert', 'Jochen B W Wolf', 'Phillip A Morin']\n",
      "                    journal Mol. Ecol.\n",
      "        is_research_article True\n",
      "    relative_citation_ratio 1.46\n",
      "             nih_percentile None\n",
      "                      human 0.0\n",
      "                     animal 0.5\n",
      "         molecular_cellular 0.5\n",
      "                        apt 0.05\n",
      "                is_clinical False\n",
      "             citation_count 5\n",
      "         citations_per_year 5.0\n",
      "expected_citations_per_year 3.4263283394396646\n",
      "        field_citation_rate 9.163539357058811\n",
      "                provisional True\n",
      "                    x_coord 0.0\n",
      "                    y_coord -0.5\n",
      "              cited_by_clin []\n",
      "                   cited_by [32547783, 32313686, 31781152, 32227363, 31379095]\n",
      "                 references [20644199, 27485668, 25963373, 28833786, 20413674, 18502536, 23657479, 21753753, 26087773, 17400573, 15969739, 23846984, 27243207, 25621460, 27376488, 25052415, 15012758, 21241391, 20618903, 22882545, 30848092, 20448178, 28817224, 17194218, 26130081, 27325835, 22960212, 25378462, 21478889, 15643951, 24026093, 27038113, 25420514, 25740414, 19779445, 28186104, 30108219, 21926070, 20110278, 18067567, 19834557, 30419012, 18425127, 19461114, 21325092, 26366195, 26137909, 30308702, 27654910, 30226838, 27770983, 29955054, 3454295, 25168683, 30455444, 29632892, 22829785, 25186727, 30344120, 30053000, 27062588, 26857625, 29198471, 27824859, 30131346, 17553774, 30561150, 26647653, 28371192, 28675384, 29674434, 19505943]\n",
      "                        doi 10.1111/mec.15099\n",
      "                     nih_sd 5\n",
      "                   nih_perc 999\n",
      "                   num_auth 35\n",
      "                   num_clin 0\n",
      "                   num_refs 72\n",
      "                total_cites 5\n"
     ]
    }
   ],
   "source": [
    "nih_entry = next(iter(nih_cites))\n",
    "print('\\n{N} key-value pairs in an NIH entry:\\n'.format(N=len(nih_entry.dct)))\n",
    "for key, value in nih_entry.dct.items():\n",
    "    print(\"{KEY:>27} {VAL}\".format(KEY=key, VAL=value))"
   ]
  },
  {
   "cell_type": "markdown",
   "metadata": {},
   "source": [
    "Copyright (C) 2019-present, DV Klopfenstein. All rights reserved."
   ]
  }
 ],
 "metadata": {
  "kernelspec": {
   "display_name": "Python 3",
   "language": "python",
   "name": "python3"
  },
  "language_info": {
   "codemirror_mode": {
    "name": "ipython",
    "version": 3
   },
   "file_extension": ".py",
   "mimetype": "text/x-python",
   "name": "python",
   "nbconvert_exporter": "python",
   "pygments_lexer": "ipython3",
   "version": "3.6.7"
  }
 },
 "nbformat": 4,
 "nbformat_minor": 2
}
