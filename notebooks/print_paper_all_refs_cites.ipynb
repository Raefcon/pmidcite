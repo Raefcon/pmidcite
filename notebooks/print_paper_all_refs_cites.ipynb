{
 "cells": [
  {
   "cell_type": "markdown",
   "metadata": {},
   "source": [
    "# Download citation data from NIH-OCC\n",
    "NIH-OCC: Nation Institute of Health's Open Citation Collection https://icite.od.nih.gov/\n",
    "\n",
    "## 1) Load Python interface to NIH-OCC's API\n",
    "One NIH entry per PubMed ID (PMID) will be downloaded to the directory, `./icite`.\n",
    "\n",
    "It is not advisable to add these files to a repo or revision manage them because the number of files will multitudinous.\n",
    "So ensure `./icite` is listed in the `.gitignore` file.\n",
    "\n",
    "NOTE: The Python API always downloads data from the NIH-OCC, even if it has been requested before. The Python downloader, `NIHiCiteDownloader`, will load NIH-OCC data from a file if it exists, otherwise will download the data using the API."
   ]
  },
  {
   "cell_type": "code",
   "execution_count": 1,
   "metadata": {},
   "outputs": [],
   "source": [
    "import sys\n",
    "from pmidcite.icite.api import NIHiCiteAPI\n",
    "\n",
    "api = NIHiCiteAPI('./icite', prt=None)"
   ]
  },
  {
   "cell_type": "markdown",
   "metadata": {},
   "source": [
    "## 2) Load the NIH Downloader\n",
    "The NIH downloader will use the API to download data from NIH if it is not stored locally or if the user has requested to always download and over-write the older citation file, allowing new citations to be seen.\n",
    "\n",
    "The NIH downloader will read already downloaded NIH-OCC data if it is available. This makes it possible to work offline using previously downloaded citation data."
   ]
  },
  {
   "cell_type": "code",
   "execution_count": 2,
   "metadata": {},
   "outputs": [],
   "source": [
    "from pmidcite.icite.pmid_dnlder import NIHiCiteDownloader\n",
    "\n",
    "force_download = False\n",
    "dnldr = NIHiCiteDownloader(force_download, api)"
   ]
  },
  {
   "cell_type": "markdown",
   "metadata": {},
   "source": [
    "## 3) Download NIH-OCC data for one PMID\n",
    "\n",
    "The first paper, `TOP`, is the requested paper. It is followed by a list of citations (`CIT`), then references (`REF`)."
   ]
  },
  {
   "cell_type": "code",
   "execution_count": 3,
   "metadata": {},
   "outputs": [
    {
     "name": "stdout",
     "output_type": "stream",
     "text": [
      "TOP 22882545 .. .A...  63 2 2013    25  0  24 au[03](P J N de Bruyn) Killer whale ecotypes: is there a global model?\n",
      "21 of 25 citations downloaded:\n",
      "CIT 31131963 RP .AM..  -1 i 2019     5  0  72 au[35](Andrew D Foote) Killer whale genomes reveal a complex history of recurrent admixture and vicariance.\n",
      "CIT 30992478 R. HA...  -1 i 2019     2  0  32 au[09](Salvador J Jorgensen) Killer whales redistribute white shark foraging pressure on seals.\n",
      "CIT 31631360 .. HA...  -1 i 2019     1  0  55 au[01](Jenny A Allen) Community through Culture: From Insects to Whales: How Social Learning and Culture Manifest across Diverse Animal Communities.\n",
      "CIT 31230140 R. .A...  -1 i 2019     0  0  36 au[12](Charlotte Curé) Evidence for discrimination between feeding sounds of familiar fish and unfamiliar mammal-eating killer whale ecotypes by long-finned pilot whales.\n",
      "CIT 31215081 R. .A...  -1 i 2019     0  0  16 au[04](Paula Sánchez-Hernández) Social interaction analysis in captive orcas (Orcinus orca).\n",
      "CIT 31120038 R. .A...  -1 i 2019     0  0  14 au[08](Maíra Laeta) Osteochondromatosis (multiple cartilaginous exostoses) in an immature killer whale Orcinus orca.\n",
      "CIT 29895580 RP .A...  45 2 2018     2  0  22 au[07](Matthew T Bowers) Selective reactions to different killer whale call categories in two delphinid species.\n",
      "CIT 30051821 RP .A...  30 2 2018     3  0  12 au[08](Ana S L Rodrigues) Forgotten Mediterranean calving grounds of grey and North Atlantic right whales: evidence from Roman archaeological records.\n",
      "CIT 29876075 RP .A...  29 2 2018     2  0  29 au[02](Mauricio Cantor) Simple foraging rules in competitive environments can generate socially structured populations.\n",
      "CIT 28371192 R. .A...  61 2 2017    10  0 121 au[03](Katherine L Moon) Reconsidering connectivity in the sub-Antarctic.\n",
      "CIT 28666015 R. .A...  52 2 2017     4  0   8 au[04](Eve Jourdain) First longitudinal study of seal-feeding killer whales (Orcinus orca) in Norwegian coastal waters.\n",
      "CIT 27039511 R. .A...  68 2 2016     9  0  25 au[07](Saana Isojunno) Sperm whales reduce foraging effort during exposure to 1-2 kHz sonar and killer whale sounds.\n",
      "CIT 27923044 R. .A...  55 2 2016     7  0   6 au[06](Rebecca Wellard) Killer Whale (Orcinus orca) Predation on Beaked Whales (Mesoplodon spp.) in the Bremer Sub-Basin, Western Australia.\n",
      "CIT 27336480 R. .AM..  25 2 2016     4  0  75 au[05](Stefano Montelli) Back to Water: Signature of Adaptive Evolution in Cetacean Mitochondrial tRNAs.\n",
      "CIT 25883362 .. .A...  84 2 2015    36  0  85 au[02](Neil P Kelley) Vertebrate evolution. Evolutionary innovation and ecology in marine tetrapods from the Triassic to the Anthropocene.\n",
      "CIT 26937049 R. .A...  76 2 2015    17  0  34 au[04](Todd R Robeck) Comparisons of life-history parameters between free-ranging and captive killer whale (<i>Orcinus orca</i>) populations for application toward species management.\n",
      "CIT 25052415 R. .AM..  66 2 2015    21  0  37 au[09](A E Moura) Phylogenomics of the killer whale indicates ecotype divergence in sympatry.\n",
      "CIT 25738698 R. .A...  30 2 2015     5  0   5 au[06](Marta Söffker) The impact of predation by marine mammals on patagonian toothfish longline fisheries.\n",
      "CIT 24383934 R. .AM..  61 2 2014    21  0  51 au[17](Marie Louis) Habitat-driven population structure of bottlenose dolphins, Tursiops truncatus, in the North-East Atlantic.\n",
      "CIT 25244680 R. .A...  60 2 2014    22  0  58 au[10](Andre E Moura) Population genomics of the killer whale indicates ecotype evolution in sympatry involving both selection and drift.\n",
      "CIT 25297864 R. .A...  59 2 2014    16  0  39 au[10](Marie Louis) Ecological opportunities and specializations shaped genetic divergence in a highly mobile marine top predator.\n",
      "CIT 29692289 RP .A...  14 1 2018     1  0  14 au[06](A Reckendorf) First record of Halocercus sp. (Pseudaliidae) lungworm infections in two stranded neonatal orcas (Orcinus orca).\n",
      "CIT 29272275 R. .A...   8 1 2017     1  0   8 au[04](Elizabeth Seely) Soundwatch: Eighteen years of monitoring whale watch vessel activities in the Salish Sea.\n",
      "CIT 27804965 .. .A...  14 1 2016     3  0  15 au[02](A R Hoelzel) Killer whales differentiating in geographic sympatry facilitated by divergent behavioural traditions.\n",
      "CIT 27147024 .. .A...   0 0 2016     0  0   2 au[01](P J Nico de Bruyn) Conservation: Debate over whale longevity is futile.\n",
      "24 of 24 References downloaded:\n",
      "REF 20413674 R. .AM..  95 3 2010   145  0  50 au[16](Phillip A Morin) Complete mitochondrial genome phylogeographic analysis of killer whales (Orcinus orca) indicates multiple species.\n",
      "REF 17395829 R. .A...  97 3 2007   240  0   7 au[05](Ransom A Myers) Cascading effects of the loss of apex predatory sharks from a coastal ocean.\n",
      "REF 13679915 R. .A...  92 3 2003   161  0   2 au[03](A R E Sinclair) Patterns of predation in a diverse predator-prey system.\n",
      "REF 11729317 R. .A...  97 3 2001   311  0   0 au[11](J Terborgh) Ecological meltdown in predator-free forest fragments.\n",
      "REF 22031725 R. .A...  51 2 2012    21  0   4 au[02](J W Durban) Antarctic killer whales make rapid, round-trip movements to subtropical waters: evidence for physiological maintenance migrations?\n",
      "REF 20810427 R. .A...  82 2 2011    62  0  19 au[08](Andrew D Foote) Positive selection on the killer whale mitogenome.\n",
      "REF 22073275 R. .A...  77 2 2011    47  0  60 au[05](Sebastián Duchêne) Mitogenome phylogenetics: the impact of using single regions and partitioning schemes on topology, substitution rate and divergence time estimation.\n",
      "REF 21757487 R. .AM..  60 2 2011    25  0  39 au[11](Michael J Ford) Inferred Paternity and Male Reproductive Success in a Killer Whale (Orcinus orca) Population.\n",
      "REF 21241391 R. .AM..  47 2 2011    21  0  44 au[22](Andrew D Foote) Genetic differentiation among North Atlantic killer whale populations.\n",
      "REF 21949818 R. .A...  35 2 2011    16  0  42 au[06](Andrew D Foote) Out of the Pacific and back again: insights into the matrilineal history of Pacific killer whale ecotypes.\n",
      "REF 19755531 R. .A...  70 2 2010    36  0   2 au[04](John K B Ford) Linking killer whale survival and prey abundance: food limitation in the oceans' apex predator?\n",
      "REF 19912451 R. .A...  68 2 2010    38  0  27 au[03](M Pilot) Social cohesion among kin, gene flow without dispersal and the evolution of population genetic structure in the killer whale (Orcinus orca).\n",
      "REF 20050301 R. .A...  70 2 2009    43  0  25 au[05](Andrew D Foote) Ecological, morphological and genetic divergence of sympatric North Atlantic killer whale populations.\n",
      "REF 19451116 R. .A...  29 2 2009    17  0  17 au[04](J A Estes) Causes and consequences of marine mammal population declines in southwest Alaska: a food-web perspective.\n",
      "REF 18345862 R. .A...  36 2 2008    13  0  14 au[02](Andrew D Foote) Variation in call pitch among killer whale ecotypes.\n",
      "REF 18524738 R. .A...  24 2 2008    12  0   3 au[03](Richard G LeDuc) Mitochondrial sequence divergence among Antarctic killer whale ecotypes is consistent with multiple species.\n",
      "REF 18481536 R. .A...  22 2 2008    14  0   6 au[02](Norman Owen-Smith) Shifting prey selection generates contrasting herbivore dynamics within a large-mammal predator-prey web.\n",
      "REF 17400573 R. .AM..  73 2 2007    64  0  25 au[06](A Rus Hoelzel) Evolution of population structure in a highly social top predator, the killer whale.\n",
      "REF 15791540 R. .A...  43 2 2005    29  0  12 au[03](Roger S Thorpe) Common garden and natural selection experiments support ecotypic differentiation in the Dominican anole (Anolis oculatus).\n",
      "REF 14526101 R. .A...  76 2 2003    87  0   8 au[08](A M Springer) Sequential megafaunal collapse in the North Pacific Ocean: an ongoing legacy of industrial whaling?\n",
      "REF 12137576 R. .AM..  58 2 2002    46  0  19 au[06](A Rus Hoelzel) Low worldwide genetic diversity in the killer whale (Orcinus orca): implications for demographic history.\n",
      "REF  9542159 R. .AM..  74 2 1998    61  0   0 au[03](A R Hoelzel) Low genetic variation among killer whales (Orcinus orca) in the eastern north Pacific and genetic differentiation between foraging specialists.\n",
      "REF 28313404 R. HA...  21 2 1992    12  0   2 au[03](Robin W Baird) Possible indirect interactions between transient and resident killer whales: implications for the evolution of foraging specializations in the genus Orcinus.\n",
      "REF 19919590 .. .A...   9 1 2009     5  0   5 au[02](Matthew A Cronin) Problems with the claim of ecotype and taxon status of the wolf in the Great Lakes region.\n"
     ]
    }
   ],
   "source": [
    "pmids = [22882545]\n",
    "pmid2paper = dnldr.get_pmid2paper(pmids)\n",
    "\n",
    "for paper in pmid2paper.values():\n",
    "    paper.prt_summary()"
   ]
  },
  {
   "cell_type": "markdown",
   "metadata": {},
   "source": [
    "Copyright (C) 2019-present, DV Klopfenstein. All rights reserved."
   ]
  }
 ],
 "metadata": {
  "kernelspec": {
   "display_name": "Python 3",
   "language": "python",
   "name": "python3"
  },
  "language_info": {
   "codemirror_mode": {
    "name": "ipython",
    "version": 3
   },
   "file_extension": ".py",
   "mimetype": "text/x-python",
   "name": "python",
   "nbconvert_exporter": "python",
   "pygments_lexer": "ipython3",
   "version": "3.6.7"
  }
 },
 "nbformat": 4,
 "nbformat_minor": 2
}
